{
 "cells": [
  {
   "cell_type": "code",
   "execution_count": 67,
   "metadata": {},
   "outputs": [],
   "source": [
    "import finnhub\n",
    "import pandas as pd\n",
    "import os\n",
    "from dotenv import load_dotenv\n",
    "from datetime import datetime, timedelta\n",
    "import yfinance as yf\n",
    "import math\n",
    "import json"
   ]
  },
  {
   "cell_type": "code",
   "execution_count": 186,
   "metadata": {},
   "outputs": [],
   "source": [
    "DATE_FORMAT = \"%d-%m-%Y\""
   ]
  },
  {
   "cell_type": "code",
   "execution_count": 187,
   "metadata": {},
   "outputs": [
    {
     "name": "stdout",
     "output_type": "stream",
     "text": [
      "csrgpqhr01qhtrfn4g00csrgpqhr01qhtrfn4g0g\n"
     ]
    }
   ],
   "source": [
    "\n",
    "load_dotenv()\n",
    "\n",
    "FINNHUB_KEY = os.environ.get(\"FINNHUB_KEY\")\n",
    "print(FINNHUB_KEY)\n",
    "\n",
    "# Setup client\n",
    "finnhub_client = finnhub.Client(api_key=FINNHUB_KEY)\n"
   ]
  },
  {
   "cell_type": "code",
   "execution_count": 188,
   "metadata": {},
   "outputs": [],
   "source": [
    "news = finnhub_client.company_news(\"AAPL\", '2024-11-10', '2024-11-15')"
   ]
  },
  {
   "cell_type": "code",
   "execution_count": null,
   "metadata": {},
   "outputs": [],
   "source": []
  },
  {
   "cell_type": "code",
   "execution_count": null,
   "metadata": {},
   "outputs": [],
   "source": [
    "def get_lookback_date(target_date: str, lookback_window: int, date_format=DATE_FORMAT):\n",
    "    \n",
    "    date_obj = datetime.strptime(target_date, date_format)\n",
    "    lookback_date = datetime.strftime(date_obj - timedelta(days=lookback_window - 1), date_format)\n",
    "    \n",
    "    return lookback_date\n",
    "\n",
    "def format_date(str_date: str, current_format=DATE_FORMAT, new_format=\"%Y-%m-%d\"):\n",
    "    str_date = datetime.strptime(str_date, current_format)\n",
    "    str_date = datetime.strftime(str_date, new_format)    \n",
    "    \n",
    "    return str_date\n"
   ]
  },
  {
   "cell_type": "code",
   "execution_count": 162,
   "metadata": {},
   "outputs": [],
   "source": [
    "target_date = \"13-11-2024\"\n",
    "lookback_window = 14\n",
    "lookback_date = get_lookback_date(target_date, lookback_window)\n",
    "ticker = \"AAPL\""
   ]
  },
  {
   "cell_type": "code",
   "execution_count": 163,
   "metadata": {},
   "outputs": [
    {
     "data": {
      "text/plain": [
       "'31-10-2024'"
      ]
     },
     "execution_count": 163,
     "metadata": {},
     "output_type": "execute_result"
    }
   ],
   "source": [
    "lookback_date"
   ]
  },
  {
   "cell_type": "code",
   "execution_count": null,
   "metadata": {},
   "outputs": [],
   "source": [
    "# News Data\n",
    "def get_news_data(ticker: str, start_date: str, end_date:str, date_format=DATE_FORMAT):\n",
    "    start_date = format_date(start_date, current_format=date_format)\n",
    "    end_date = format_date(end_date, current_format=date_format)\n",
    "    \n",
    "                                   \n",
    "    news_data = finnhub_client.company_news(ticker, _from=start_date, to=end_date)\n",
    "    news_data = [\n",
    "        {\n",
    "            \"date\": datetime.fromtimestamp(news['datetime']).strftime('%d-%m-%Y'),\n",
    "            \"headline\": news['headline'],\n",
    "            \"summary\": news['summary'],\n",
    "        } for news in news_data\n",
    "    ]\n",
    "\n",
    "    return news_data"
   ]
  },
  {
   "cell_type": "code",
   "execution_count": 165,
   "metadata": {},
   "outputs": [],
   "source": [
    "news = get_news_data(ticker, lookback_date, target_date)"
   ]
  },
  {
   "cell_type": "code",
   "execution_count": 184,
   "metadata": {},
   "outputs": [],
   "source": [
    "def get_stock_data(ticker, start_date, end_date):\n",
    "    start_date = format_date(lookback_date, current_format=date_format)\n",
    "    end_date = format_date(target_date, current_format=date_format)\n",
    "\n",
    "\n",
    "    stock_data = yf.download(ticker, start=start_date, end=end_date)\n",
    "\n",
    "    stock_data = stock_data['Adj Close']\n",
    "    stock_data = stock_data.reset_index()\n",
    "    stock_data['Date'] = stock_data['Date'].dt.strftime(date_format)\n",
    "    stock_data = stock_data.rename_axis(None, axis=1)\n",
    "\n",
    "    return stock_data"
   ]
  },
  {
   "cell_type": "code",
   "execution_count": 219,
   "metadata": {},
   "outputs": [],
   "source": [
    "\n",
    "# Company Info\n",
    "def get_company_info(ticker:str, start_date: str, end_date:str, date_format=DATE_FORMAT):\n",
    "    cprof = finnhub_client.company_profile2(symbol='AAPL')\n",
    "    df = pd.DataFrame(cprof, index=[0])\n",
    "    df['shareOutstanding']  = df['shareOutstanding'] * 1E6\n",
    "    df['marketCapitalization'] = df['marketCapitalization'] * 1E6"
   ]
  },
  {
   "cell_type": "code",
   "execution_count": 223,
   "metadata": {},
   "outputs": [],
   "source": [
    "cprof = finnhub_client.company_profile2(symbol='YOTA')\n",
    "df = pd.DataFrame(cprof, index=[0])\n",
    "df['shareOutstanding']  = df['shareOutstanding'] * 1E6\n",
    "df['marketCapitalization'] = df['marketCapitalization'] * 1E6"
   ]
  },
  {
   "cell_type": "code",
   "execution_count": 225,
   "metadata": {},
   "outputs": [
    {
     "data": {
      "text/html": [
       "<div>\n",
       "<style scoped>\n",
       "    .dataframe tbody tr th:only-of-type {\n",
       "        vertical-align: middle;\n",
       "    }\n",
       "\n",
       "    .dataframe tbody tr th {\n",
       "        vertical-align: top;\n",
       "    }\n",
       "\n",
       "    .dataframe thead th {\n",
       "        text-align: right;\n",
       "    }\n",
       "</style>\n",
       "<table border=\"1\" class=\"dataframe\">\n",
       "  <thead>\n",
       "    <tr style=\"text-align: right;\">\n",
       "      <th></th>\n",
       "      <th>country</th>\n",
       "      <th>currency</th>\n",
       "      <th>estimateCurrency</th>\n",
       "      <th>exchange</th>\n",
       "      <th>finnhubIndustry</th>\n",
       "      <th>ipo</th>\n",
       "      <th>logo</th>\n",
       "      <th>marketCapitalization</th>\n",
       "      <th>name</th>\n",
       "      <th>phone</th>\n",
       "      <th>shareOutstanding</th>\n",
       "      <th>ticker</th>\n",
       "      <th>weburl</th>\n",
       "    </tr>\n",
       "  </thead>\n",
       "  <tbody>\n",
       "    <tr>\n",
       "      <th>0</th>\n",
       "      <td>US</td>\n",
       "      <td>USD</td>\n",
       "      <td>USD</td>\n",
       "      <td>NASDAQ NMS - GLOBAL MARKET</td>\n",
       "      <td>N/A</td>\n",
       "      <td>2022-04-20</td>\n",
       "      <td>https://static2.finnhub.io/file/publicdatany/f...</td>\n",
       "      <td>4.406381e+07</td>\n",
       "      <td>Yotta Acquisition Corp</td>\n",
       "      <td>12126121400</td>\n",
       "      <td>3940000.0</td>\n",
       "      <td>YOTA</td>\n",
       "      <td></td>\n",
       "    </tr>\n",
       "  </tbody>\n",
       "</table>\n",
       "</div>"
      ],
      "text/plain": [
       "  country currency estimateCurrency                    exchange  \\\n",
       "0      US      USD              USD  NASDAQ NMS - GLOBAL MARKET   \n",
       "\n",
       "  finnhubIndustry         ipo  \\\n",
       "0             N/A  2022-04-20   \n",
       "\n",
       "                                                logo  marketCapitalization  \\\n",
       "0  https://static2.finnhub.io/file/publicdatany/f...          4.406381e+07   \n",
       "\n",
       "                     name        phone  shareOutstanding ticker weburl  \n",
       "0  Yotta Acquisition Corp  12126121400         3940000.0   YOTA         "
      ]
     },
     "execution_count": 225,
     "metadata": {},
     "output_type": "execute_result"
    }
   ],
   "source": [
    "df"
   ]
  },
  {
   "cell_type": "code",
   "execution_count": 226,
   "metadata": {},
   "outputs": [],
   "source": [
    "cprof = finnhub_client.company_profile2(symbol='AAPL')\n",
    "df = pd.DataFrame(cprof, index=[0])\n",
    "df['shareOutstanding']  = df['shareOutstanding'] * 1E6\n",
    "df['marketCapitalization'] = df['marketCapitalization'] * 1E6"
   ]
  },
  {
   "cell_type": "code",
   "execution_count": 227,
   "metadata": {},
   "outputs": [
    {
     "data": {
      "text/html": [
       "<div>\n",
       "<style scoped>\n",
       "    .dataframe tbody tr th:only-of-type {\n",
       "        vertical-align: middle;\n",
       "    }\n",
       "\n",
       "    .dataframe tbody tr th {\n",
       "        vertical-align: top;\n",
       "    }\n",
       "\n",
       "    .dataframe thead th {\n",
       "        text-align: right;\n",
       "    }\n",
       "</style>\n",
       "<table border=\"1\" class=\"dataframe\">\n",
       "  <thead>\n",
       "    <tr style=\"text-align: right;\">\n",
       "      <th></th>\n",
       "      <th>country</th>\n",
       "      <th>currency</th>\n",
       "      <th>estimateCurrency</th>\n",
       "      <th>exchange</th>\n",
       "      <th>finnhubIndustry</th>\n",
       "      <th>ipo</th>\n",
       "      <th>logo</th>\n",
       "      <th>marketCapitalization</th>\n",
       "      <th>name</th>\n",
       "      <th>phone</th>\n",
       "      <th>shareOutstanding</th>\n",
       "      <th>ticker</th>\n",
       "      <th>weburl</th>\n",
       "    </tr>\n",
       "  </thead>\n",
       "  <tbody>\n",
       "    <tr>\n",
       "      <th>0</th>\n",
       "      <td>US</td>\n",
       "      <td>USD</td>\n",
       "      <td>USD</td>\n",
       "      <td>NASDAQ NMS - GLOBAL MARKET</td>\n",
       "      <td>Technology</td>\n",
       "      <td>1980-12-12</td>\n",
       "      <td>https://static2.finnhub.io/file/publicdatany/f...</td>\n",
       "      <td>3.449733e+12</td>\n",
       "      <td>Apple Inc</td>\n",
       "      <td>14089961010</td>\n",
       "      <td>1.511582e+10</td>\n",
       "      <td>AAPL</td>\n",
       "      <td>https://www.apple.com/</td>\n",
       "    </tr>\n",
       "  </tbody>\n",
       "</table>\n",
       "</div>"
      ],
      "text/plain": [
       "  country currency estimateCurrency                    exchange  \\\n",
       "0      US      USD              USD  NASDAQ NMS - GLOBAL MARKET   \n",
       "\n",
       "  finnhubIndustry         ipo  \\\n",
       "0      Technology  1980-12-12   \n",
       "\n",
       "                                                logo  marketCapitalization  \\\n",
       "0  https://static2.finnhub.io/file/publicdatany/f...          3.449733e+12   \n",
       "\n",
       "        name        phone  shareOutstanding ticker                  weburl  \n",
       "0  Apple Inc  14089961010      1.511582e+10   AAPL  https://www.apple.com/  "
      ]
     },
     "execution_count": 227,
     "metadata": {},
     "output_type": "execute_result"
    }
   ],
   "source": [
    "df"
   ]
  },
  {
   "cell_type": "code",
   "execution_count": null,
   "metadata": {},
   "outputs": [
    {
     "data": {
      "text/plain": [
       "3000000000"
      ]
     },
     "execution_count": 197,
     "metadata": {},
     "output_type": "execute_result"
    }
   ],
   "source": [
    "3000000000\n",
    "3449733105.508423"
   ]
  },
  {
   "cell_type": "code",
   "execution_count": 200,
   "metadata": {},
   "outputs": [],
   "source": [
    "prof_2 = finnhub_client.company_profile2(symbol='JPM')"
   ]
  },
  {
   "cell_type": "code",
   "execution_count": 208,
   "metadata": {},
   "outputs": [
    {
     "name": "stdout",
     "output_type": "stream",
     "text": [
      "3449733105508.423\n",
      "3000000000000\n"
     ]
    }
   ],
   "source": [
    "print(prof['marketCapitalization']*1000000)\n",
    "print(3000000000000)"
   ]
  },
  {
   "cell_type": "code",
   "execution_count": 209,
   "metadata": {},
   "outputs": [
    {
     "data": {
      "text/plain": [
       "680946435499.4369"
      ]
     },
     "execution_count": 209,
     "metadata": {},
     "output_type": "execute_result"
    }
   ],
   "source": [
    "prof_2['marketCapitalization']*1000000"
   ]
  },
  {
   "cell_type": "code",
   "execution_count": null,
   "metadata": {},
   "outputs": [],
   "source": []
  }
 ],
 "metadata": {
  "kernelspec": {
   "display_name": "fyp",
   "language": "python",
   "name": "python3"
  },
  "language_info": {
   "codemirror_mode": {
    "name": "ipython",
    "version": 3
   },
   "file_extension": ".py",
   "mimetype": "text/x-python",
   "name": "python",
   "nbconvert_exporter": "python",
   "pygments_lexer": "ipython3",
   "version": "3.10.15"
  }
 },
 "nbformat": 4,
 "nbformat_minor": 2
}
