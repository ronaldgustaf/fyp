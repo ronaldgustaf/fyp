{
 "cells": [
  {
   "cell_type": "code",
   "execution_count": 34,
   "metadata": {},
   "outputs": [],
   "source": [
    "from data import get_news_data, get_stock_data, get_company_info\n",
    "from helpers import get_lookback_date\n",
    "import random"
   ]
  },
  {
   "cell_type": "code",
   "execution_count": 35,
   "metadata": {},
   "outputs": [],
   "source": [
    "target_date = \"12-11-2024\"\n",
    "lookback_window = 7\n",
    "lookback_date = get_lookback_date(target_date, lookback_window)\n",
    "ticker = \"AAPL\""
   ]
  },
  {
   "cell_type": "code",
   "execution_count": 36,
   "metadata": {},
   "outputs": [],
   "source": [
    "news = get_news_data(ticker, lookback_date, target_date)"
   ]
  },
  {
   "cell_type": "code",
   "execution_count": 37,
   "metadata": {},
   "outputs": [],
   "source": [
    "prompt = f\"\"\"[News Summary]\\n\"\"\""
   ]
  },
  {
   "cell_type": "code",
   "execution_count": 42,
   "metadata": {},
   "outputs": [],
   "source": [
    "def sample_news(news, k=5):\n",
    "    return news.iloc[:k]"
   ]
  },
  {
   "cell_type": "code",
   "execution_count": 46,
   "metadata": {},
   "outputs": [],
   "source": [
    "def news_prompt(news):\n",
    "    sampled_news = sample_news(news)"
   ]
  },
  {
   "cell_type": "code",
   "execution_count": 47,
   "metadata": {},
   "outputs": [
    {
     "data": {
      "text/html": [
       "<div>\n",
       "<style scoped>\n",
       "    .dataframe tbody tr th:only-of-type {\n",
       "        vertical-align: middle;\n",
       "    }\n",
       "\n",
       "    .dataframe tbody tr th {\n",
       "        vertical-align: top;\n",
       "    }\n",
       "\n",
       "    .dataframe thead th {\n",
       "        text-align: right;\n",
       "    }\n",
       "</style>\n",
       "<table border=\"1\" class=\"dataframe\">\n",
       "  <thead>\n",
       "    <tr style=\"text-align: right;\">\n",
       "      <th></th>\n",
       "      <th>date</th>\n",
       "      <th>headline</th>\n",
       "      <th>summary</th>\n",
       "    </tr>\n",
       "  </thead>\n",
       "  <tbody>\n",
       "    <tr>\n",
       "      <th>0</th>\n",
       "      <td>13-11-2024</td>\n",
       "      <td>Apple’s Next Device Is an AI Wall Tablet for H...</td>\n",
       "      <td>(Bloomberg) -- Apple Inc., aiming to catch up ...</td>\n",
       "    </tr>\n",
       "    <tr>\n",
       "      <th>1</th>\n",
       "      <td>13-11-2024</td>\n",
       "      <td>Tracking Ken Fisher's Fisher Asset Management ...</td>\n",
       "      <td>Fisher Asset Management's portfolio value incr...</td>\n",
       "    </tr>\n",
       "    <tr>\n",
       "      <th>2</th>\n",
       "      <td>13-11-2024</td>\n",
       "      <td>Apple to Launch Smart Home Camera in 2026, Exp...</td>\n",
       "      <td>Apple plans to launch its first smart home cam...</td>\n",
       "    </tr>\n",
       "    <tr>\n",
       "      <th>3</th>\n",
       "      <td>13-11-2024</td>\n",
       "      <td>Pairing AI with our brains: Precision Neurosci...</td>\n",
       "      <td>Imagine being able to control a computer curso...</td>\n",
       "    </tr>\n",
       "    <tr>\n",
       "      <th>4</th>\n",
       "      <td>13-11-2024</td>\n",
       "      <td>EU Asks Apple to End Geo-Blocking on Media Ser...</td>\n",
       "      <td>The European Commission and national consumer ...</td>\n",
       "    </tr>\n",
       "    <tr>\n",
       "      <th>...</th>\n",
       "      <td>...</td>\n",
       "      <td>...</td>\n",
       "      <td>...</td>\n",
       "    </tr>\n",
       "    <tr>\n",
       "      <th>136</th>\n",
       "      <td>06-11-2024</td>\n",
       "      <td>Amazon Just Became the Market's Best Investment</td>\n",
       "      <td>The e-commerce giant is just doing better than...</td>\n",
       "    </tr>\n",
       "    <tr>\n",
       "      <th>137</th>\n",
       "      <td>06-11-2024</td>\n",
       "      <td>Apple: Time To Exit As Buffett Sells (Again) A...</td>\n",
       "      <td>Warren Buffett's sale of Apple Inc. shares is ...</td>\n",
       "    </tr>\n",
       "    <tr>\n",
       "      <th>138</th>\n",
       "      <td>06-11-2024</td>\n",
       "      <td>Horizon Kinetics Q3 2024 Commentary</td>\n",
       "      <td>For Horizon Kinetics's Q3 2024 Commentary, it ...</td>\n",
       "    </tr>\n",
       "    <tr>\n",
       "      <th>139</th>\n",
       "      <td>06-11-2024</td>\n",
       "      <td>SDY: Dividend Growth ETF With High Turnover An...</td>\n",
       "      <td>SPDR S&amp;P Dividend ETF tracks high-yield divide...</td>\n",
       "    </tr>\n",
       "    <tr>\n",
       "      <th>140</th>\n",
       "      <td>06-11-2024</td>\n",
       "      <td>Apple certain of mega fine EU</td>\n",
       "      <td>Copyright © Emerce 2023Apple will receive anot...</td>\n",
       "    </tr>\n",
       "  </tbody>\n",
       "</table>\n",
       "<p>141 rows × 3 columns</p>\n",
       "</div>"
      ],
      "text/plain": [
       "           date                                           headline  \\\n",
       "0    13-11-2024  Apple’s Next Device Is an AI Wall Tablet for H...   \n",
       "1    13-11-2024  Tracking Ken Fisher's Fisher Asset Management ...   \n",
       "2    13-11-2024  Apple to Launch Smart Home Camera in 2026, Exp...   \n",
       "3    13-11-2024  Pairing AI with our brains: Precision Neurosci...   \n",
       "4    13-11-2024  EU Asks Apple to End Geo-Blocking on Media Ser...   \n",
       "..          ...                                                ...   \n",
       "136  06-11-2024    Amazon Just Became the Market's Best Investment   \n",
       "137  06-11-2024  Apple: Time To Exit As Buffett Sells (Again) A...   \n",
       "138  06-11-2024                Horizon Kinetics Q3 2024 Commentary   \n",
       "139  06-11-2024  SDY: Dividend Growth ETF With High Turnover An...   \n",
       "140  06-11-2024                      Apple certain of mega fine EU   \n",
       "\n",
       "                                               summary  \n",
       "0    (Bloomberg) -- Apple Inc., aiming to catch up ...  \n",
       "1    Fisher Asset Management's portfolio value incr...  \n",
       "2    Apple plans to launch its first smart home cam...  \n",
       "3    Imagine being able to control a computer curso...  \n",
       "4    The European Commission and national consumer ...  \n",
       "..                                                 ...  \n",
       "136  The e-commerce giant is just doing better than...  \n",
       "137  Warren Buffett's sale of Apple Inc. shares is ...  \n",
       "138  For Horizon Kinetics's Q3 2024 Commentary, it ...  \n",
       "139  SPDR S&P Dividend ETF tracks high-yield divide...  \n",
       "140  Copyright © Emerce 2023Apple will receive anot...  \n",
       "\n",
       "[141 rows x 3 columns]"
      ]
     },
     "execution_count": 47,
     "metadata": {},
     "output_type": "execute_result"
    }
   ],
   "source": [
    "news"
   ]
  },
  {
   "cell_type": "code",
   "execution_count": null,
   "metadata": {},
   "outputs": [],
   "source": [
    "[Headline]:\n",
    "[Summary]:"
   ]
  }
 ],
 "metadata": {
  "kernelspec": {
   "display_name": "fyp",
   "language": "python",
   "name": "python3"
  },
  "language_info": {
   "codemirror_mode": {
    "name": "ipython",
    "version": 3
   },
   "file_extension": ".py",
   "mimetype": "text/x-python",
   "name": "python",
   "nbconvert_exporter": "python",
   "pygments_lexer": "ipython3",
   "version": "3.10.15"
  }
 },
 "nbformat": 4,
 "nbformat_minor": 2
}
