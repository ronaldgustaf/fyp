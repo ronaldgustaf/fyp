{
 "cells": [
  {
   "cell_type": "code",
   "execution_count": 34,
   "metadata": {},
   "outputs": [],
   "source": [
    "from data import get_news_data, get_stock_data, get_company_info\n",
    "from helpers import get_lookback_date\n",
    "import random"
   ]
  },
  {
   "cell_type": "code",
   "execution_count": 35,
   "metadata": {},
   "outputs": [],
   "source": [
    "target_date = \"12-11-2024\"\n",
    "lookback_window = 7\n",
    "lookback_date = get_lookback_date(target_date, lookback_window)\n",
    "ticker = \"AAPL\""
   ]
  },
  {
   "cell_type": "code",
   "execution_count": 84,
   "metadata": {},
   "outputs": [
    {
     "data": {
      "text/html": [
       "<div>\n",
       "<style scoped>\n",
       "    .dataframe tbody tr th:only-of-type {\n",
       "        vertical-align: middle;\n",
       "    }\n",
       "\n",
       "    .dataframe tbody tr th {\n",
       "        vertical-align: top;\n",
       "    }\n",
       "\n",
       "    .dataframe thead th {\n",
       "        text-align: right;\n",
       "    }\n",
       "</style>\n",
       "<table border=\"1\" class=\"dataframe\">\n",
       "  <thead>\n",
       "    <tr style=\"text-align: right;\">\n",
       "      <th></th>\n",
       "      <th>country</th>\n",
       "      <th>currency</th>\n",
       "      <th>estimateCurrency</th>\n",
       "      <th>exchange</th>\n",
       "      <th>finnhubIndustry</th>\n",
       "      <th>ipo</th>\n",
       "      <th>logo</th>\n",
       "      <th>marketCapitalization</th>\n",
       "      <th>name</th>\n",
       "      <th>phone</th>\n",
       "      <th>shareOutstanding</th>\n",
       "      <th>ticker</th>\n",
       "      <th>weburl</th>\n",
       "    </tr>\n",
       "  </thead>\n",
       "  <tbody>\n",
       "    <tr>\n",
       "      <th>0</th>\n",
       "      <td>US</td>\n",
       "      <td>USD</td>\n",
       "      <td>USD</td>\n",
       "      <td>NASDAQ NMS - GLOBAL MARKET</td>\n",
       "      <td>Technology</td>\n",
       "      <td>1980-12-12</td>\n",
       "      <td>https://static2.finnhub.io/file/publicdatany/f...</td>\n",
       "      <td>3.449733e+12</td>\n",
       "      <td>Apple Inc</td>\n",
       "      <td>14089961010</td>\n",
       "      <td>1.511582e+10</td>\n",
       "      <td>AAPL</td>\n",
       "      <td>https://www.apple.com/</td>\n",
       "    </tr>\n",
       "  </tbody>\n",
       "</table>\n",
       "</div>"
      ],
      "text/plain": [
       "  country currency estimateCurrency                    exchange  \\\n",
       "0      US      USD              USD  NASDAQ NMS - GLOBAL MARKET   \n",
       "\n",
       "  finnhubIndustry         ipo  \\\n",
       "0      Technology  1980-12-12   \n",
       "\n",
       "                                                logo  marketCapitalization  \\\n",
       "0  https://static2.finnhub.io/file/publicdatany/f...          3.449733e+12   \n",
       "\n",
       "        name        phone  shareOutstanding ticker                  weburl  \n",
       "0  Apple Inc  14089961010      1.511582e+10   AAPL  https://www.apple.com/  "
      ]
     },
     "execution_count": 84,
     "metadata": {},
     "output_type": "execute_result"
    }
   ],
   "source": [
    "get_company_info(\"AAPL\", lookback_date, target_date)"
   ]
  },
  {
   "cell_type": "code",
   "execution_count": null,
   "metadata": {},
   "outputs": [],
   "source": [
    "def company_info_prompt(ticker):\n",
    "    company_info = get_company_info(ticker, lookback_date, target_date)\n",
    "    prompt = f\"{}\""
   ]
  },
  {
   "cell_type": "code",
   "execution_count": 42,
   "metadata": {},
   "outputs": [],
   "source": [
    "def sample_news(news, k=5):\n",
    "    return news.iloc[:k]"
   ]
  },
  {
   "cell_type": "code",
   "execution_count": 82,
   "metadata": {},
   "outputs": [],
   "source": [
    "def news_prompt(news):\n",
    "    sampled_news = sample_news(news)\n",
    "    prompt = f\"\"\"[News Summary]\\n\\n\"\"\"\n",
    "    for i, n in sampled_news.iterrows():\n",
    "        prompt += f\"[Headline] {n['headline']}\\n[Summary] {n['summary']}\\n\\n\"\n",
    "        \n",
    "    return prompt\n"
   ]
  },
  {
   "cell_type": "code",
   "execution_count": 48,
   "metadata": {},
   "outputs": [],
   "source": [
    "sampled_news = sample_news(news, 8)"
   ]
  },
  {
   "cell_type": "code",
   "execution_count": 81,
   "metadata": {},
   "outputs": [
    {
     "name": "stdout",
     "output_type": "stream",
     "text": [
      "[News Summary]\n",
      "\n",
      "[Headline] Apple’s Next Device Is an AI Wall Tablet for Home Control, Siri and Video Calls\n",
      "[Summary] (Bloomberg) -- Apple Inc., aiming to catch up with rivals in the smart home market, is nearing the launch of a new product category: a wall-mounted display that can control appliances, handle videoconferencing and use AI to navigate apps. Most Read from BloombergThe Leaf Blowers Will Not Go QuietlyUnder Trump, Prepare for New US Transportation PrioritiesArizona Elections Signal Robust Immigration Enforcement Under TrumpScoring an Architectural Breakthrough in Denver’s RiNo DistrictThe company is\n",
      "\n",
      "[Headline] Tracking Ken Fisher's Fisher Asset Management Portfolio - Q3 2024 Update\n",
      "[Summary] Fisher Asset Management's portfolio value increased to $244B, with top holdings in Apple, Microsoft, Nvidia, Amazon, and Alphabet. See more here.\n",
      "\n",
      "[Headline] Apple to Launch Smart Home Camera in 2026, Expand AirPods Health Features\n",
      "[Summary] Apple plans to launch its first smart home camera in 2026\n",
      "\n",
      "[Headline] Pairing AI with our brains: Precision Neuroscience's big bet\n",
      "[Summary] Imagine being able to control a computer cursor with your mind. While it may sound like science fiction to many, major companies, like Meta (META) and Apple (AAPL) are investing in these technologies, and a handful of companies are working to make it a reality, including Precision Neuroscience. Co-founded by CEO Michael Mager and neurosurgeon and engineer Ben Rapoport, Precision Neuroscience began in 2021 with three former employees of Elon Musk’s Neuralink. Precision Neuroscience is developing its version of an implanted brain-computer interface (BCI) technology meant to help individuals with neurological disorders, such as ALS, to better function and communicate. Mager says Precision Neuroscience's technology is high-bandwidth, sits on \"the surface of the brain without doing any damage,\" and is reversible.  In an interview with Yahoo Finance Senior Reporter Yasmin Khorram from the Yahoo Invest conference, Mager discusses the company's road ahead and potential market, what to expect from the upcoming Trump presidency, and a possible IPO. “We view brain computer interfaces as a generationally important life sciences innovation,” says Mager. “This is gonna have applicability today in paralysis, tomorrow in a number of different areas.” To see every interview from Yahoo Finance Invest, click here. This post was written by Luke Brooks.\n",
      "\n",
      "[Headline] EU Asks Apple to End Geo-Blocking on Media Services\n",
      "[Summary] The European Commission and national consumer authorities have asked Apple to stop geo-blocking\n",
      "\n",
      "[Headline] Jim Cramer on Apple Inc. (AAPL)’s Operations in China: ‘China And Trump, They Are Also Like Oil And Water And If You Do Business There, It’s Gonna Hurt You Here’\n",
      "[Summary] We recently compiled a list of the Jim Cramer Talked About These 16 Stocks. In this article, we are going to take a look at where Apple Inc. (NASDAQ:AAPL) stands against the other stocks Jim Cramer was talking about. Jim Cramer, host of Mad Money, shared his thoughts on the market’s reaction to the election results. […]\n",
      "\n",
      "[Headline] Here’s how to create a custom emoji with the Apple Intelligence feature ‘Genmoji’\n",
      "[Summary] Apple’s latest iOS 18.1 software updates introduced a series of Apple Intelligence features, including Writing Tools and notification summaries. However, some features were missing from the lineup, like Genmoji, which allows users to create emojis from written prompts. Now, with iOS 18.2, iPadOS 18.2, and macOS Sequoia 15.2 public betas officially available, the highly anticipated AI-generated Bitmoji feature is finally here for some users to try. Here’s what you need to know about the Apple Int\n",
      "\n",
      "[Headline] The Election, the Fed, and What's Next\n",
      "[Summary] The market appreciates certainty; it got a clear read on the next U.S. presidential administration and the near-term interest rate outlook. We break it all down, and give you a little reset from all the big-picture talk.\n",
      "\n",
      "\n"
     ]
    }
   ],
   "source": [
    "print(f'{prompt}')"
   ]
  },
  {
   "cell_type": "code",
   "execution_count": null,
   "metadata": {},
   "outputs": [],
   "source": [
    "[Headline]:\n",
    "[Summary]:"
   ]
  }
 ],
 "metadata": {
  "kernelspec": {
   "display_name": "fyp",
   "language": "python",
   "name": "python3"
  },
  "language_info": {
   "codemirror_mode": {
    "name": "ipython",
    "version": 3
   },
   "file_extension": ".py",
   "mimetype": "text/x-python",
   "name": "python",
   "nbconvert_exporter": "python",
   "pygments_lexer": "ipython3",
   "version": "3.10.15"
  }
 },
 "nbformat": 4,
 "nbformat_minor": 2
}
